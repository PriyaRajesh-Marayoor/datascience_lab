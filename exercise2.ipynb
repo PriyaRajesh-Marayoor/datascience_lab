{
 "cells": [
  {
   "cell_type": "code",
   "execution_count": 39,
   "id": "c9a2386a",
   "metadata": {},
   "outputs": [
    {
     "name": "stdout",
     "output_type": "stream",
     "text": [
      "Enter 9 elements row by row:\n",
      "Enter 9 elements row by row:\n",
      "first matrix is :  [[1 2 5]\n",
      " [3 7 6]\n",
      " [2 3 1]]\n",
      "Second matrix :  [[8 5 6]\n",
      " [4 3 8]\n",
      " [2 5 1]]\n",
      "Rank of first matrix :\n",
      "3\n",
      "Rank of second matrix :\n",
      "3\n",
      "Determinant if first matrix : \n",
      "-17.999999999999996\n",
      "Determinant if second matrix : \n",
      "-152.0\n",
      "Inverse of second matrix : \n",
      "[[ 0.24342105 -0.16447368 -0.14473684]\n",
      " [-0.07894737  0.02631579  0.26315789]\n",
      " [-0.09210526  0.19736842 -0.02631579]]\n",
      "Eigen value of matrix one :\n",
      "[10.62832872  0.72090914 -2.34923787]\n",
      "eigen vector of first matrix : \n",
      "EigResult(eigenvalues=array([10.62832872,  0.72090914, -2.34923787]), eigenvectors=array([[-0.35920583, -0.81111133, -0.80264294],\n",
      "       [-0.86721875,  0.55726601, -0.11770524],\n",
      "       [-0.34482287, -0.17763165,  0.58473052]]))\n"
     ]
    }
   ],
   "source": [
    "import numpy as np\n",
    "row1 = int(input(\"Enter number of rows: \"))\n",
    "col1= int(input(\"Enter number of columns: \"))\n",
    "matrix1 = []\n",
    "print(f\"Enter {row1 * col1} elements row by row:\")\n",
    "for i in range(row1):\n",
    "    row1=[]\n",
    "    for j in range(col1) :\n",
    "     val=int(input(\"Enter elements:\"))\n",
    "     row1.append(val)\n",
    "    matrix1.append(row1)\n",
    "row2 = int(input(\"Enter number of rows: \"))\n",
    "col2= int(input(\"Enter number of columns: \"))\n",
    "matrix2 = []\n",
    "print(f\"Enter {row2 * col2} elements row by row:\")\n",
    "for i in range(row2):\n",
    "    row2=[]\n",
    "    for j in range(col2) :\n",
    "     val1=int(input(\"Enter elements:\"))\n",
    "     row2.append(val1)\n",
    "    matrix2.append(row2)\n",
    "a=np.array(matrix1)\n",
    "print(\"first matrix is : \",a)\n",
    "a1=np.array(matrix2)\n",
    "print(\"Second matrix : \",a1)\n",
    "# print(\"The dot product is :\")\n",
    "# print(np.dot(a,a1))\n",
    "# print(\"Transpose of 1st one :\")\n",
    "# print(np.transpose(a))\n",
    "# print(\"Transpose of 2nd one :\")\n",
    "# print(np.transpose(a1))\n",
    "# print(\"Trace of first matrix :\")\n",
    "# print(np.trace(a))\n",
    "# print(\"Trace of second matrix :\")\n",
    "# print(np.trace(a1))\n",
    "print(\"Rank of first matrix :\")\n",
    "print(np.linalg.matrix_rank(a))\n",
    "print(\"Rank of second matrix :\")\n",
    "print(np.linalg.matrix_rank(a1))\n",
    "print(\"Determinant if first matrix : \")\n",
    "print(np.linalg.det(a))\n",
    "print(\"Determinant if second matrix : \")\n",
    "print(np.linalg.det(a1))\n",
    "print(\"Inverse of second matrix : \")\n",
    "print(np.linalg.inv(a1))\n",
    "print(\"Eigen value of matrix one :\")\n",
    "print(np.linalg.eigvals(a))\n",
    "print(\"eigen vector of first matrix : \")\n",
    "print(np.linalg.eig(a))\n",
    "\n",
    "\n"
   ]
  }
 ],
 "metadata": {
  "kernelspec": {
   "display_name": "base",
   "language": "python",
   "name": "python3"
  },
  "language_info": {
   "codemirror_mode": {
    "name": "ipython",
    "version": 3
   },
   "file_extension": ".py",
   "mimetype": "text/x-python",
   "name": "python",
   "nbconvert_exporter": "python",
   "pygments_lexer": "ipython3",
   "version": "3.12.4"
  }
 },
 "nbformat": 4,
 "nbformat_minor": 5
}
