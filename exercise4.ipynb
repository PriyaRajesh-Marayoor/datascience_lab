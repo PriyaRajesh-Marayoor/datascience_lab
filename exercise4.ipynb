{
 "cells": [
  {
   "cell_type": "code",
   "execution_count": null,
   "id": "7855a0b0",
   "metadata": {},
   "outputs": [
    {
     "name": "stdout",
     "output_type": "stream",
     "text": [
      "0    10\n",
      "1    20\n",
      "2    30\n",
      "3    40\n",
      "4    50\n",
      "dtype: int64\n"
     ]
    }
   ],
   "source": [
    "#question1\n",
    "import pandas as pd\n",
    "my_list = [10, 20, 30, 40, 50]\n",
    "series = pd.Series(my_list)\n",
    "print(series)\n"
   ]
  },
  {
   "cell_type": "code",
   "execution_count": null,
   "id": "cb29cdba",
   "metadata": {},
   "outputs": [
    {
     "name": "stdout",
     "output_type": "stream",
     "text": [
      "DatetimeIndex(['2021-05-01', '2021-05-02', '2021-05-03', '2021-05-04',\n",
      "               '2021-05-05', '2021-05-06', '2021-05-07', '2021-05-08',\n",
      "               '2021-05-09', '2021-05-10', '2021-05-11', '2021-05-12'],\n",
      "              dtype='datetime64[ns]', freq='D')\n"
     ]
    }
   ],
   "source": [
    "#question 2\n",
    "import pandas as pd\n",
    "dates = pd.date_range(start=\"2021-05-01\", end=\"2021-05-12\")\n",
    "print(dates)\n"
   ]
  },
  {
   "cell_type": "code",
   "execution_count": 2,
   "id": "b37ad1a6",
   "metadata": {},
   "outputs": [
    {
     "name": "stdout",
     "output_type": "stream",
     "text": [
      "      Name  Age     City\n",
      "0    Alice   25    Delhi\n",
      "1      Bob   30   Mumbai\n",
      "2  Charlie   35  Chennai\n"
     ]
    }
   ],
   "source": [
    "#question 3\n",
    "import pandas as pd\n",
    "data = {'Name': ['Alice', 'Bob', 'Charlie'],\n",
    "        'Age': [25, 30, 35],\n",
    "        'City': ['Delhi', 'Mumbai', 'Chennai']}\n",
    "\n",
    "df = pd.DataFrame(data)\n",
    "print(df)\n"
   ]
  },
  {
   "cell_type": "code",
   "execution_count": 3,
   "id": "0f94462c",
   "metadata": {},
   "outputs": [
    {
     "name": "stdout",
     "output_type": "stream",
     "text": [
      "   ID     Name  Salary\n",
      "0   1    Alice   25000\n",
      "1   2      Bob   30000\n",
      "2   3  Charlie   40000\n"
     ]
    }
   ],
   "source": [
    "#question4\n",
    "import pandas as pd\n",
    "\n",
    "data = [[1, 'Alice', 25000],\n",
    "        [2, 'Bob', 30000],\n",
    "        [3, 'Charlie', 40000]]\n",
    "\n",
    "df = pd.DataFrame(data, columns=['ID', 'Name', 'Salary'])\n",
    "print(df)\n"
   ]
  },
  {
   "cell_type": "code",
   "execution_count": 5,
   "id": "7ff23b9a",
   "metadata": {},
   "outputs": [
    {
     "name": "stdout",
     "output_type": "stream",
     "text": [
      "      Name  Age     City\n",
      "0    Alice   25    Delhi\n",
      "1      Bob   30   Mumbai\n",
      "2  Charlie   35  Chennai\n"
     ]
    }
   ],
   "source": [
    "#question5\n",
    "import pandas as pd\n",
    "\n",
    "df = pd.read_csv(\"sample.csv\")  # replace with your CSV filename\n",
    "print(df)\n"
   ]
  },
  {
   "cell_type": "code",
   "execution_count": 6,
   "id": "ad8dde9e",
   "metadata": {},
   "outputs": [
    {
     "name": "stdout",
     "output_type": "stream",
     "text": [
      "      Name  Age  Salary\n",
      "2  Charlie   25   45000\n",
      "0    Alice   25   50000\n",
      "1      Bob   30   40000\n",
      "3    David   35   60000\n"
     ]
    }
   ],
   "source": [
    "#question 6\n",
    "import pandas as pd\n",
    "\n",
    "data = {'Name': ['Alice', 'Bob', 'Charlie', 'David'],\n",
    "        'Age': [25, 30, 25, 35],\n",
    "        'Salary': [50000, 40000, 45000, 60000]}\n",
    "\n",
    "df = pd.DataFrame(data)\n",
    "sorted_df = df.sort_values(by=['Age', 'Salary'])\n",
    "print(sorted_df)\n"
   ]
  },
  {
   "cell_type": "code",
   "execution_count": 7,
   "id": "d6626872",
   "metadata": {},
   "outputs": [
    {
     "name": "stdout",
     "output_type": "stream",
     "text": [
      "Custom Indexing:\n",
      "       Name  Age\n",
      "a    Alice   25\n",
      "b      Bob   30\n",
      "c  Charlie   35\n",
      "\n",
      "Default Indexing:\n",
      "       Name  Age\n",
      "0    Alice   25\n",
      "1      Bob   30\n",
      "2  Charlie   35\n"
     ]
    }
   ],
   "source": [
    "#question 7\n",
    "import pandas as pd\n",
    "\n",
    "data = {'Name': ['Alice', 'Bob', 'Charlie'],\n",
    "        'Age': [25, 30, 35]}\n",
    "\n",
    "df = pd.DataFrame(data, index=['a', 'b', 'c'])\n",
    "print(\"Custom Indexing:\\n\", df)\n",
    "\n",
    "df_reset = df.reset_index(drop=True)\n",
    "print(\"\\nDefault Indexing:\\n\", df_reset)\n"
   ]
  },
  {
   "cell_type": "code",
   "execution_count": 8,
   "id": "5537ee75",
   "metadata": {},
   "outputs": [
    {
     "name": "stdout",
     "output_type": "stream",
     "text": [
      "    Name  Age\n",
      "0  Alice   25\n",
      "1    Bob   30\n"
     ]
    }
   ],
   "source": [
    "#question 8\n",
    "import pandas as pd\n",
    "\n",
    "data = {'Name': ['Alice', 'Bob', 'Charlie'],\n",
    "        'Age': [25, 30, 35]}\n",
    "\n",
    "df = pd.DataFrame(data)\n",
    "print(df.head(2))\n"
   ]
  },
  {
   "cell_type": "code",
   "execution_count": 9,
   "id": "59ff975a",
   "metadata": {},
   "outputs": [
    {
     "name": "stdout",
     "output_type": "stream",
     "text": [
      "Occupation\n",
      "Doctor      75000.0\n",
      "Engineer    55000.0\n",
      "Name: Salary, dtype: float64\n"
     ]
    }
   ],
   "source": [
    "#question 9\n",
    "import pandas as pd\n",
    "\n",
    "data = {'Name': ['Alice', 'Bob', 'Charlie', 'David'],\n",
    "        'Occupation': ['Engineer', 'Doctor', 'Engineer', 'Doctor'],\n",
    "        'Salary': [50000, 70000, 60000, 80000]}\n",
    "\n",
    "df = pd.DataFrame(data)\n",
    "avg_salary = df.groupby('Occupation')['Salary'].mean()\n",
    "print(avg_salary)\n"
   ]
  },
  {
   "cell_type": "code",
   "execution_count": 10,
   "id": "f37834e2",
   "metadata": {},
   "outputs": [
    {
     "name": "stdout",
     "output_type": "stream",
     "text": [
      "Before:\n",
      "       Name   Age\n",
      "0    Alice  25.0\n",
      "1      Bob   NaN\n",
      "2  Charlie  35.0\n",
      "\n",
      "After:\n",
      "       Name   Age\n",
      "0    Alice  25.0\n",
      "1      Bob   0.0\n",
      "2  Charlie  35.0\n"
     ]
    }
   ],
   "source": [
    "\n",
    "#question 10\n",
    "import pandas as pd\n",
    "import numpy as np\n",
    "\n",
    "data = {'Name': ['Alice', 'Bob', 'Charlie'],\n",
    "        'Age': [25, np.nan, 35]}\n",
    "\n",
    "df = pd.DataFrame(data)\n",
    "print(\"Before:\\n\", df)\n",
    "\n",
    "df_filled = df.fillna(0)\n",
    "print(\"\\nAfter:\\n\", df_filled)\n"
   ]
  },
  {
   "cell_type": "code",
   "execution_count": 11,
   "id": "5227cbef",
   "metadata": {},
   "outputs": [
    {
     "name": "stdout",
     "output_type": "stream",
     "text": [
      "      cname  profit\n",
      "0  CompanyA    True\n",
      "1  CompanyB   False\n",
      "2  CompanyC   False\n"
     ]
    }
   ],
   "source": [
    "#question 11\n",
    "import pandas as pd\n",
    "\n",
    "data = {'cname': ['CompanyA', 'CompanyB', 'CompanyC'],\n",
    "        'profit': [1000, -2000, 0]}\n",
    "\n",
    "df = pd.DataFrame(data)\n",
    "df['profit'] = df['profit'] > 0\n",
    "print(df)\n"
   ]
  },
  {
   "cell_type": "code",
   "execution_count": 12,
   "id": "5124bb1b",
   "metadata": {},
   "outputs": [
    {
     "name": "stdout",
     "output_type": "stream",
     "text": [
      "   eid    ename  stipend designation\n",
      "0    1    Alice    10000      Intern\n",
      "1    2      Bob    12000     Trainee\n",
      "2    3  Charlie    15000   Developer\n"
     ]
    }
   ],
   "source": [
    "#question 12\n",
    "import pandas as pd\n",
    "\n",
    "df1 = pd.DataFrame({'eid': [1, 2, 3],\n",
    "                    'ename': ['Alice', 'Bob', 'Charlie'],\n",
    "                    'stipend': [10000, 12000, 15000]})\n",
    "\n",
    "df2 = pd.DataFrame({'eid': [1, 2, 3],\n",
    "                    'designation': ['Intern', 'Trainee', 'Developer']})\n",
    "\n",
    "merged_df = pd.merge(df1, df2, on='eid')\n",
    "print(merged_df)\n"
   ]
  }
 ],
 "metadata": {
  "kernelspec": {
   "display_name": "base",
   "language": "python",
   "name": "python3"
  },
  "language_info": {
   "codemirror_mode": {
    "name": "ipython",
    "version": 3
   },
   "file_extension": ".py",
   "mimetype": "text/x-python",
   "name": "python",
   "nbconvert_exporter": "python",
   "pygments_lexer": "ipython3",
   "version": "3.12.4"
  }
 },
 "nbformat": 4,
 "nbformat_minor": 5
}
