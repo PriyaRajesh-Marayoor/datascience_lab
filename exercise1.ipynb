{
 "cells": [
  {
   "cell_type": "code",
   "execution_count": null,
   "id": "4e530656",
   "metadata": {},
   "outputs": [
    {
     "name": "stdout",
     "output_type": "stream",
     "text": [
      "Fahrenheit: [ 32  68 104 212   0]\n",
      "Celsius: [  0.          20.          40.         100.         -17.77777778]\n"
     ]
    }
   ],
   "source": [
    "import numpy as np\n",
    "\n",
    "f=np.array([32, 68, 104, 212, 0]) \n",
    "c=(f-32)*5/9 \n",
    "print(\"Fahrenheit:\",f)  \n",
    "print(\"Celsius:\",c) \n"
   ]
  },
  {
   "cell_type": "code",
   "execution_count": 11,
   "id": "8f03286d",
   "metadata": {},
   "outputs": [
    {
     "name": "stdout",
     "output_type": "stream",
     "text": [
      "Array elements are :  [268 516 902 613 972 404 375 665 219 648 893 659 495 565 571 761 257 398\n",
      " 911 635 676 122 569 995 323 517  98 386 285 894 220 666 903 694 603 214\n",
      " 575 117 329 343 646 109 714 966 869 598 914 115 400 407 631 778 568 565\n",
      " 530  93 663 654 499 845 963 662 717  47 804  72 894 129  60  62  29 311\n",
      " 402 264 177 823 432 917  73 729  83 165 152 410  31 813 679 220 984   2\n",
      " 908 634 286 299 657 919 648 922 316 824 266 858 295 129 701 497 725 692\n",
      " 576 219 310 505  96 794 641 703 113 339 493 583 713 894 189 853 897 869\n",
      " 692  32 512 887 979 429 713 921 734 736 952 676 106 446 376 154 887   6\n",
      " 919  84 183 677 597 561 548 978 316 996 851 501  53 557 405 385 892 905\n",
      " 882 211 623 985 813 399 300 478 817 988 975 209  72 239 194 233 956 738\n",
      " 281 590  67 884 425 585 959 288 751 173 128 783 146 223 492 868 186 229\n",
      " 242 589 297 979 512 599 137 353 764 384 881  29 215 682 285  20 819 593\n",
      "  22 153 605 678 726 777 885 294 572 572  83 200 333 788 400 374 425 219\n",
      " 620  23 333 320 483 108 670 192 283 766 473 902 205 963 478  88  31 784\n",
      " 904 763  77 891 811 596 960 204 178 816  67 178 542 557 336 380  75 733\n",
      " 782  39 944  54 592 722 314 226 153 973 182 232 487 908 675 573   7 699\n",
      " 351 551 967 959 116 646 551 539 995 714 842 276 521 655 830 189 554 877\n",
      " 868 821 734   3 977 290 275 183 464 500 206 733 441 399 474 442 677 324\n",
      " 703 863 109 215 547 504 304 530 780 911 384  20 154  79 809 117 338  34\n",
      " 635 203 254 205 394 258 244 158  88 653 645 876 272 296 665 139 185 905\n",
      " 673 245 923 488 334 112 694 746 109 939 554 580 211 792 755 945 326 520\n",
      "  94 242 150 888 655 938 747 700 863 184 599 286 102   1 528 293 151 685\n",
      " 765 924 487 647 560 587 517 387 453 867 577 901  87 343 409  98 632 974\n",
      " 686 387 450 811 103 126 293 979 479 805 667 138 524 933  53 283 933 605\n",
      " 906 569 973 871 181 827 215 298 385 168 664  64  71 793  47 967  47 972\n",
      " 167 351 243  20 526 598 964 740  65 987 440 246 774 471 957 932 636 552\n",
      " 982 959 776 777 384 211  69 903 438 327 628 355 925 884 855 685 606 713\n",
      " 102 947 397 574 341 865 804 707  19 210 549 302 871 996 576 413 475 256\n",
      " 361 572 449 578 297 377 625  46 355 670 909  17 182 467 933 142 731 393\n",
      " 667  74 610 150 685 557 484 678 702 943 484 903  44 575 769 310 157 149\n",
      " 502 821 227  59 644 530 310 121 255 263 956  55 899  62 311 271 845 817\n",
      " 384 169 573 425 660 627 522 328 279 515 432 545 803 906 669 847 614  35\n",
      " 982 590 798 498 979 504 191 507 800 167 721 455 430 753  78 990 789 153\n",
      " 525   3 246  63 211 518  49 345 374 152 785 765 684 540 975 128 258 113\n",
      " 650  57  17 299 318 268 298 467 500 110 844 519 354   2 391 124 906 618\n",
      " 802 804 814 642 237 134 698 643 813  48 544 504 603 567 201 541 580 859\n",
      "  50 856 335 423 807 787 896 361 489  99 998  58 907 981 955 971 819 680\n",
      " 484 214 982 931 206 451 279 518 960 282 274 976 496 642 460 991 177 685\n",
      " 437 834 260 925 143 224 290 409 829 384 771 457 492 698 760 170 187 742\n",
      " 976 639 306 317 981 231 846 891  12 688 285 528 870 981 163 368 742 756\n",
      " 966 930 753 832 434 531 732 323  83  57 985 497  37 499 977 699 856  76\n",
      " 500 796 436  51 596 471  76 980 346 747 221 608  45  57 456 856  42 282\n",
      " 174  77 190 777  19 698 832 405 202 552 105 356 686 229 921 844 977  61\n",
      " 756 291 306 369 299 947 831 174 342 496  27 436 241 377 274 917 281 868\n",
      " 852 353 786 396 618 965 138 256 278 619 818 749 429 571 820 574 326 355\n",
      " 961 790 398 304 994 324 235 494 312 118 785 486 373 121  72 584 352 524\n",
      " 508 392 444 898 427  21 385 265 218 920 674 624 853  21 303 230 817 657\n",
      "   1 935 661 345 944 459  14 431 450 239 315 428 374 809 199 484 315 844\n",
      " 685  92 201  27 701 589 263 255 561 367 664 275 961 509 602 880 631 322\n",
      "  66 144 342 933 438 237 469  37  31 651 142 170 486 492 739 195   7 482\n",
      " 722 971 928 303 832 125 833 463 266 983 238 600 937 981  87 249 716 382\n",
      "  18 695 306 564 565 839  61  27 552 195 162 118 945 182 710 913 412  80\n",
      " 943 460  52 460 955  67  14 711 908 581 901 542 993  62  67 169 412 173\n",
      " 132 132 491 175 826 212 824 859 529 757 294 125 474 602 154  38 143 189\n",
      " 697 815 147 869 296 142 863 367 344 906 929 139 570 930 926 400 586 881\n",
      "  74 972 781 393  88 388 551 693 337  33]\n",
      "Average is :  499.099\n",
      "The variance is :  87596.181199\n",
      "The standard deviation is :  295.96652040222386\n"
     ]
    }
   ],
   "source": [
    "arr=np.random.randint(0, 1000, size=1000)\n",
    "print(\"Array elements are : \",arr)\n",
    "\n",
    "avg=np.mean(arr)\n",
    "print(\"Average is : \",avg)\n",
    "var=np.var(arr)\n",
    "print(\"The variance is : \",var)\n",
    "std=np.std(arr)\n",
    "print(\"The standard deviation is : \",std)\n"
   ]
  },
  {
   "cell_type": "code",
   "execution_count": 28,
   "id": "ac2e8462",
   "metadata": {},
   "outputs": [
    {
     "name": "stdout",
     "output_type": "stream",
     "text": [
      "The degree array elements are :  [  0  45  90 180 360]\n",
      "The radius array is :  [0.         0.78539816 1.57079633 3.14159265 6.28318531]\n"
     ]
    }
   ],
   "source": [
    "degree=np.array([0,45,90,180,360])\n",
    "rad=np.deg2rad(degree)\n",
    "print(\"The degree array elements are : \",degree)\n",
    "print(\"The radius array is : \",rad)"
   ]
  },
  {
   "cell_type": "code",
   "execution_count": 15,
   "id": "1d5357b7",
   "metadata": {},
   "outputs": [
    {
     "name": "stdout",
     "output_type": "stream",
     "text": [
      "the array elements are :  [15 17 21  8 98]\n",
      "The difference in neighbouring elements are :  [  2   4 -13  90]\n"
     ]
    }
   ],
   "source": [
    "arr=np.array([15,17,21,8,98])\n",
    "print(\"the array elements are : \",arr)\n",
    "diff=np.diff(arr)\n",
    "print(\"The difference in neighbouring elements are : \",diff)\n"
   ]
  },
  {
   "cell_type": "code",
   "execution_count": null,
   "id": "73ce2f7d",
   "metadata": {},
   "outputs": [
    {
     "name": "stdout",
     "output_type": "stream",
     "text": [
      "[ 2.+3.j  2.+4.j  4.+1.j 12.+3.j 21.+2.j 32.+5.j 67.+9.j]\n"
     ]
    }
   ],
   "source": [
    "arr=np.array([12 + 3j, 2+4j,32+5j,21+2j,4+1j,67+9j,2+3j])\n",
    "sort=np.sort_complex(arr)\n",
    "print(sort)"
   ]
  },
  {
   "cell_type": "code",
   "execution_count": 15,
   "id": "55a67760",
   "metadata": {},
   "outputs": [
    {
     "name": "stdout",
     "output_type": "stream",
     "text": [
      "The array elements are :  [12  2 18  2 18  3 10 15 17  2]\n",
      "elements Greater than 4 :  [12 18 18 10 15 17]\n"
     ]
    }
   ],
   "source": [
    "arr=np.random.randint(1,20,size=10)\n",
    "print(\"The array elements are : \",arr)\n",
    "new=arr[arr>4]\n",
    "print(\"elements Greater than 4 : \",new)\n"
   ]
  },
  {
   "cell_type": "code",
   "execution_count": 16,
   "id": "d03ea970",
   "metadata": {},
   "outputs": [
    {
     "name": "stdout",
     "output_type": "stream",
     "text": [
      "The array elements are :  [28 92 90 46 37 91 42 60 79 41]\n",
      "Number found at position  5\n"
     ]
    }
   ],
   "source": [
    "import numpy as np\n",
    "arr=np.random.randint(1,100,size=10)\n",
    "print(\"The array elements are : \",arr)\n",
    "s=int(input(\"Enter a number you are searching for : \"))\n",
    "x=np.where(arr==s)\n",
    "if len(x[0])==0:\n",
    "    print(\"Element not found\")\n",
    "else:\n",
    "    print(\"Number found at position \",*x[0]+1)\n",
    "\n"
   ]
  },
  {
   "cell_type": "code",
   "execution_count": 3,
   "id": "6c3d03c0",
   "metadata": {},
   "outputs": [
    {
     "name": "stdout",
     "output_type": "stream",
     "text": [
      "[30 32 34 36 38 40 42 44 46 48 50 52 54 56 58 60]\n"
     ]
    }
   ],
   "source": [
    "import numpy as np\n",
    "a=np.arange(30,61,2) \n",
    "print(a)"
   ]
  },
  {
   "cell_type": "code",
   "execution_count": 9,
   "id": "5e4f71cf",
   "metadata": {},
   "outputs": [
    {
     "name": "stdout",
     "output_type": "stream",
     "text": [
      "Original array :  [3 4 5 6]\n",
      "Loaded array :  [3. 4. 5. 6.]\n"
     ]
    }
   ],
   "source": [
    "import numpy as np\n",
    "arr=np.array([3,4,5,6])\n",
    "text=np.savetxt(\"array.txt\",arr)\n",
    "load=np.loadtxt(\"array.txt\")\n",
    "print(\"Original array : \",arr)\n",
    "print(\"Loaded array : \",load)"
   ]
  },
  {
   "cell_type": "code",
   "execution_count": 11,
   "id": "f3b0c530",
   "metadata": {},
   "outputs": [
    {
     "name": "stdout",
     "output_type": "stream",
     "text": [
      "The array elements are :  [[1 2 3]\n",
      " [4 3 1]\n",
      " [7 4 2]]\n",
      "The sum of all elements is :  27\n",
      "sum of each row :  [ 6  8 13]\n",
      "The sum of each column is :  [12  9  6]\n"
     ]
    }
   ],
   "source": [
    "arr=np.array([[1,2,3],\n",
    "              [4,3,1],\n",
    "              [7,4,2]])\n",
    "print(\"The array elements are : \",arr)\n",
    "sum=np.sum(arr)\n",
    "print(\"The sum of all elements is : \",sum)\n",
    "srow=np.sum(arr,axis=1)\n",
    "print(\"sum of each row : \",srow)\n",
    "scol=np.sum(arr,axis=0)\n",
    "print(\"The sum of each column is : \",scol)"
   ]
  }
 ],
 "metadata": {
  "kernelspec": {
   "display_name": "base",
   "language": "python",
   "name": "python3"
  },
  "language_info": {
   "codemirror_mode": {
    "name": "ipython",
    "version": 3
   },
   "file_extension": ".py",
   "mimetype": "text/x-python",
   "name": "python",
   "nbconvert_exporter": "python",
   "pygments_lexer": "ipython3",
   "version": "3.10.12"
  }
 },
 "nbformat": 4,
 "nbformat_minor": 5
}
