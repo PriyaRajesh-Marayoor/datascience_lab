{
 "cells": [
  {
   "cell_type": "code",
   "execution_count": null,
   "id": "6d4097d9",
   "metadata": {},
   "outputs": [
    {
     "name": "stdout",
     "output_type": "stream",
     "text": [
      "<class 'tuple'>\n",
      "[1 2 5 6]\n",
      "<class 'numpy.ndarray'>\n",
      "<class 'list'>\n"
     ]
    }
   ],
   "source": [
    "import numpy as np\n",
    "#tuple\n",
    "a=(1,2,3,4)\n",
    "print(type(a))   #printing type \n",
    "p=np.array((1,2,5,6))  #converting tuple to array\n",
    "print(p)\n",
    "print(type(p))   \n",
    "s=[9,8,7,6]  #list\n",
    "print(type(s))"
   ]
  },
  {
   "cell_type": "code",
   "execution_count": null,
   "id": "7b5e29b3",
   "metadata": {},
   "outputs": [
    {
     "name": "stdout",
     "output_type": "stream",
     "text": [
      "[0 1 2 3 4 5 6 7 8 9]\n",
      "[ 2  4  6  8 10 12 14 16 18 20 22 24 26 28 30 32 34 36 38 40 42 44 46 48\n",
      " 50 52 54 56 58 60 62 64 66 68 70 72 74 76 78 80 82 84 86 88 90 92 94 96\n",
      " 98]\n",
      "[ 1  3  5  7  9 11 13 15 17 19 21 23 25 27 29 31 33 35 37 39 41 43 45 47\n",
      " 49 51 53 55 57 59 61 63 65 67 69 71 73 75 77 79 81 83 85 87 89 91 93 95\n",
      " 97]\n",
      "[0 0]\n",
      "[1 1 1]\n",
      "[[1 1 1]\n",
      " [1 1 1]\n",
      " [1 1 1]]\n",
      "[[1 2 3]\n",
      " [4 5 6]\n",
      " [7 8 9]]\n",
      "[[1. 0. 0.]\n",
      " [0. 1. 0.]\n",
      " [0. 0. 1.]]\n",
      "[[1. 0. 0.]\n",
      " [0. 1. 0.]\n",
      " [0. 0. 1.]] <class 'int'>\n"
     ]
    }
   ],
   "source": [
    "\n",
    "p=np.arange(10) #function to print range of numbers 0 to n-1\n",
    "print(p)\n",
    "a=np.arange(2,100,2) #even  numbers\n",
    "print(a)\n",
    "b=np.arange(1,99,2) #odd numbers\n",
    "print(b)\n",
    "c=np.zeros(2,int) #all elements 0\n",
    "print(c)\n",
    "d=np.ones(3,int) #three one4s in array\n",
    "print(d)\n",
    "arr=np.ones((3,3),int) #3x3 matrix with all 1\n",
    "print(arr)\n",
    "mat=np.array([[1,2,3], #creating our own matrix\n",
    "             [4,5,6],\n",
    "             [7,8,9]])\n",
    "print(mat)\n",
    "id=np.eye(3) #eye-identity matrix\n",
    "print(id)\n",
    "id1=np.identity(3) #using identity function\n",
    "print(id1)"
   ]
  },
  {
   "cell_type": "code",
   "execution_count": null,
   "id": "c2e19058",
   "metadata": {},
   "outputs": [
    {
     "name": "stdout",
     "output_type": "stream",
     "text": [
      "[1 2 3 4 5 6 7]\n",
      "[2 3 4 5]\n",
      "[1 2 3 4 5]\n",
      "[2 3 4 5 6 7]\n",
      "5\n",
      "[4 5 6]\n",
      "4\n",
      "[1 2 3 4 5 6 7]\n",
      "[1 2 3 4 5 6 7]\n",
      "[ 1  2 10  4  5  6  7]\n",
      "[1 2 3 4 5 6 7]\n",
      "[ 1  2 10  4  5  6  7]\n"
     ]
    }
   ],
   "source": [
    "\n",
    "arr=np.arange(1,8) #creating array\n",
    "print(arr)\n",
    "print(arr[1:5]) #slicing 1 to 4\n",
    "print(arr[:5]) #slicing 0 to 4\n",
    "print(arr[1:]) #starts from 1st index to end\n",
    "print(arr[-3]) #3rd element from last\n",
    "print(arr[-4:-1]) #from 4th element from last to 2nd element from last\n",
    "print(arr[3])\n",
    "c=arr  #copying traditionally | any changes to the original array will affect c\n",
    "print(c)\n",
    "b=np.copy(arr) #copying a to b using function | any changes to the original array will not affect b\n",
    "print(b)\n",
    "arr[2]=10\n",
    "print(arr)\n",
    "print(b)\n",
    "print(c)\n"
   ]
  },
  {
   "cell_type": "code",
   "execution_count": null,
   "id": "862d516b",
   "metadata": {},
   "outputs": [
    {
     "name": "stdout",
     "output_type": "stream",
     "text": [
      "[1 2 3 4 9 8]\n"
     ]
    }
   ],
   "source": [
    "\n",
    "a=[1,2,3,4]\n",
    "b=[9,8]\n",
    "c=np.concatenate((a,b)) #concatenate\n",
    "print(c)\n"
   ]
  },
  {
   "cell_type": "code",
   "execution_count": 65,
   "id": "9eec7815",
   "metadata": {},
   "outputs": [
    {
     "name": "stdout",
     "output_type": "stream",
     "text": [
      "[[ 1  2  3  9  8  7]\n",
      " [ 4  5  6 12 13 14]\n",
      " [ 7  8  9 15  7  6]]\n",
      "Without axis :\n",
      "[[ 1  2  3]\n",
      " [ 4  5  6]\n",
      " [ 7  8  9]\n",
      " [ 9  8  7]\n",
      " [12 13 14]\n",
      " [15  7  6]]\n"
     ]
    }
   ],
   "source": [
    "m1=np.array([[1,2,3],[4,5,6],[7,8,9]])\n",
    "m2=np.array([[9,8,7],[12,13,14],[15,7,6]])\n",
    "s=np.concatenate((m1,m2),axis=1) #axis - first row 1 st matrix will be concatenated with first row of second matrix and so on\n",
    "print(s)\n",
    "print(\"Without axis :\")\n",
    "r=np.concatenate((m1,m2)) #without using axis\n",
    "print(r)\n"
   ]
  },
  {
   "cell_type": "code",
   "execution_count": 85,
   "id": "a2b4cec4",
   "metadata": {},
   "outputs": [
    {
     "name": "stdout",
     "output_type": "stream",
     "text": [
      "[4 5 6 7 8]\n",
      "Element not found\n"
     ]
    }
   ],
   "source": [
    "z=np.arange(4,9)\n",
    "print(z)\n",
    "#searching\n",
    "x=np.where(z==9)\n",
    "if len(x[0])==0:\n",
    "    print(\"Element not found\")\n",
    "else:\n",
    "    print(\"Number found at position \",*x[0]+1)\n"
   ]
  }
 ],
 "metadata": {
  "kernelspec": {
   "display_name": "Python 3",
   "language": "python",
   "name": "python3"
  },
  "language_info": {
   "codemirror_mode": {
    "name": "ipython",
    "version": 3
   },
   "file_extension": ".py",
   "mimetype": "text/x-python",
   "name": "python",
   "nbconvert_exporter": "python",
   "pygments_lexer": "ipython3",
   "version": "3.12.4"
  }
 },
 "nbformat": 4,
 "nbformat_minor": 5
}
